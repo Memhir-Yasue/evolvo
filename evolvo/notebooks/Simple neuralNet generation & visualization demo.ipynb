{
 "cells": [
  {
   "cell_type": "code",
   "execution_count": 1,
   "id": "5b4c300f",
   "metadata": {},
   "outputs": [],
   "source": [
    "from evolvo.neuralnet import NeuralNetwork\n",
    "from evolvo.visualizer import Visualizer"
   ]
  },
  {
   "cell_type": "code",
   "execution_count": 2,
   "id": "c5fd200f",
   "metadata": {},
   "outputs": [],
   "source": [
    "nn = NeuralNetwork()"
   ]
  },
  {
   "cell_type": "code",
   "execution_count": 3,
   "id": "eca5f875",
   "metadata": {},
   "outputs": [
    {
     "name": "stdout",
     "output_type": "stream",
     "text": [
      "0\n",
      "1\n",
      "2\n",
      "3\n",
      "4\n"
     ]
    }
   ],
   "source": [
    "for i in range(5):\n",
    "    print(i)\n",
    "    nn.add_to_root()"
   ]
  },
  {
   "cell_type": "code",
   "execution_count": 4,
   "id": "509be77d",
   "metadata": {},
   "outputs": [
    {
     "data": {
      "text/plain": [
       "7"
      ]
     },
     "execution_count": 4,
     "metadata": {},
     "output_type": "execute_result"
    }
   ],
   "source": [
    "nn.add_unto(1)\n",
    "nn.add_unto(2)"
   ]
  },
  {
   "cell_type": "code",
   "execution_count": 5,
   "id": "1148a6a8",
   "metadata": {},
   "outputs": [
    {
     "data": {
      "text/plain": [
       "8"
      ]
     },
     "execution_count": 5,
     "metadata": {},
     "output_type": "execute_result"
    }
   ],
   "source": [
    "nn.neurons_count"
   ]
  },
  {
   "cell_type": "code",
   "execution_count": 6,
   "id": "fd5b6b7a",
   "metadata": {},
   "outputs": [
    {
     "data": {
      "text/plain": [
       "8"
      ]
     },
     "execution_count": 6,
     "metadata": {},
     "output_type": "execute_result"
    }
   ],
   "source": [
    "nn.add_unto(6)"
   ]
  },
  {
   "cell_type": "code",
   "execution_count": 7,
   "id": "fdeeaa3f",
   "metadata": {},
   "outputs": [
    {
     "data": {
      "text/plain": [
       "9"
      ]
     },
     "execution_count": 7,
     "metadata": {},
     "output_type": "execute_result"
    }
   ],
   "source": [
    "nn.add_unto(7)"
   ]
  },
  {
   "cell_type": "code",
   "execution_count": 8,
   "id": "4b736773",
   "metadata": {},
   "outputs": [
    {
     "data": {
      "text/plain": [
       "array([[0., 1., 1., 1., 1., 1., 0., 0., 0., 0.],\n",
       "       [0., 0., 0., 0., 0., 0., 1., 0., 0., 0.],\n",
       "       [0., 0., 0., 0., 0., 0., 0., 1., 0., 0.],\n",
       "       [0., 0., 0., 0., 0., 0., 0., 0., 0., 0.],\n",
       "       [0., 0., 0., 0., 0., 0., 0., 0., 0., 0.],\n",
       "       [0., 0., 0., 0., 0., 0., 0., 0., 0., 0.],\n",
       "       [0., 0., 0., 0., 0., 0., 0., 0., 1., 0.],\n",
       "       [0., 0., 0., 0., 0., 0., 0., 0., 0., 1.],\n",
       "       [0., 0., 0., 0., 0., 0., 0., 0., 0., 0.],\n",
       "       [0., 0., 0., 0., 0., 0., 0., 0., 0., 0.]])"
      ]
     },
     "execution_count": 8,
     "metadata": {},
     "output_type": "execute_result"
    }
   ],
   "source": [
    "nn.get_relations()"
   ]
  },
  {
   "cell_type": "code",
   "execution_count": 9,
   "id": "82f0abf3",
   "metadata": {},
   "outputs": [],
   "source": [
    "viz = Visualizer(nn)"
   ]
  },
  {
   "cell_type": "code",
   "execution_count": 10,
   "id": "39b1e161",
   "metadata": {},
   "outputs": [
    {
     "data": {
      "text/plain": [
       "array([[0., 1., 1., 1., 1., 1., 0., 0., 0., 0.],\n",
       "       [0., 0., 0., 0., 0., 0., 1., 0., 0., 0.],\n",
       "       [0., 0., 0., 0., 0., 0., 0., 1., 0., 0.],\n",
       "       [0., 0., 0., 0., 0., 0., 0., 0., 0., 0.],\n",
       "       [0., 0., 0., 0., 0., 0., 0., 0., 0., 0.],\n",
       "       [0., 0., 0., 0., 0., 0., 0., 0., 0., 0.],\n",
       "       [0., 0., 0., 0., 0., 0., 0., 0., 1., 0.],\n",
       "       [0., 0., 0., 0., 0., 0., 0., 0., 0., 1.],\n",
       "       [0., 0., 0., 0., 0., 0., 0., 0., 0., 0.],\n",
       "       [0., 0., 0., 0., 0., 0., 0., 0., 0., 0.]])"
      ]
     },
     "execution_count": 10,
     "metadata": {},
     "output_type": "execute_result"
    }
   ],
   "source": [
    "viz.adj_matrix"
   ]
  },
  {
   "cell_type": "code",
   "execution_count": 11,
   "id": "b205ebfb",
   "metadata": {},
   "outputs": [
    {
     "data": {
      "image/png": "[encoded data removed]",
      "text/plain": [
       "<Figure size 432x288 with 1 Axes>"
      ]
     },
     "metadata": {},
     "output_type": "display_data"
    }
   ],
   "source": [
    "viz.draw_network()"
   ]
  },
  {
   "cell_type": "markdown",
   "id": "57d8e4b2",
   "metadata": {},
   "source": [
    "# Let's try making a binary tree like network"
   ]
  },
  {
   "cell_type": "code",
   "execution_count": 12,
   "id": "7c85b972",
   "metadata": {},
   "outputs": [],
   "source": [
    "ann = NeuralNetwork()"
   ]
  },
  {
   "cell_type": "code",
   "execution_count": 13,
   "id": "fc337fdd",
   "metadata": {},
   "outputs": [
    {
     "data": {
      "text/plain": [
       "1"
      ]
     },
     "execution_count": 13,
     "metadata": {},
     "output_type": "execute_result"
    }
   ],
   "source": [
    "ann.add_to_root()"
   ]
  },
  {
   "cell_type": "code",
   "execution_count": 14,
   "id": "c131119f",
   "metadata": {},
   "outputs": [
    {
     "data": {
      "text/plain": [
       "2"
      ]
     },
     "execution_count": 14,
     "metadata": {},
     "output_type": "execute_result"
    }
   ],
   "source": [
    "ann.add_to_root()"
   ]
  },
  {
   "cell_type": "code",
   "execution_count": 15,
   "id": "e45faeaf",
   "metadata": {},
   "outputs": [
    {
     "data": {
      "text/plain": [
       "3"
      ]
     },
     "execution_count": 15,
     "metadata": {},
     "output_type": "execute_result"
    }
   ],
   "source": [
    "ann.add_unto(1)"
   ]
  },
  {
   "cell_type": "code",
   "execution_count": 16,
   "id": "bffb489b",
   "metadata": {},
   "outputs": [
    {
     "data": {
      "text/plain": [
       "4"
      ]
     },
     "execution_count": 16,
     "metadata": {},
     "output_type": "execute_result"
    }
   ],
   "source": [
    "ann.add_unto(1)"
   ]
  },
  {
   "cell_type": "code",
   "execution_count": 17,
   "id": "eda5ff0a",
   "metadata": {},
   "outputs": [
    {
     "data": {
      "text/plain": [
       "5"
      ]
     },
     "execution_count": 17,
     "metadata": {},
     "output_type": "execute_result"
    }
   ],
   "source": [
    "ann.add_unto(2)"
   ]
  },
  {
   "cell_type": "code",
   "execution_count": 18,
   "id": "beab061d",
   "metadata": {},
   "outputs": [
    {
     "data": {
      "text/plain": [
       "6"
      ]
     },
     "execution_count": 18,
     "metadata": {},
     "output_type": "execute_result"
    }
   ],
   "source": [
    "ann.add_unto(2)"
   ]
  },
  {
   "cell_type": "code",
   "execution_count": 19,
   "id": "5927126d",
   "metadata": {},
   "outputs": [
    {
     "data": {
      "text/plain": [
       "7"
      ]
     },
     "execution_count": 19,
     "metadata": {},
     "output_type": "execute_result"
    }
   ],
   "source": [
    "ann.add_unto(3)"
   ]
  },
  {
   "cell_type": "code",
   "execution_count": 20,
   "id": "a05d170e",
   "metadata": {},
   "outputs": [
    {
     "data": {
      "text/plain": [
       "8"
      ]
     },
     "execution_count": 20,
     "metadata": {},
     "output_type": "execute_result"
    }
   ],
   "source": [
    "ann.add_unto(3)"
   ]
  },
  {
   "cell_type": "code",
   "execution_count": 21,
   "id": "fcc3bc0c",
   "metadata": {},
   "outputs": [
    {
     "data": {
      "text/plain": [
       "9"
      ]
     },
     "execution_count": 21,
     "metadata": {},
     "output_type": "execute_result"
    }
   ],
   "source": [
    "ann.add_unto(4)"
   ]
  },
  {
   "cell_type": "code",
   "execution_count": 23,
   "id": "2ecbebda",
   "metadata": {},
   "outputs": [],
   "source": [
    "viz2 = Visualizer(ann)"
   ]
  },
  {
   "cell_type": "code",
   "execution_count": 28,
   "id": "918067f2",
   "metadata": {},
   "outputs": [
    {
     "data": {
      "image/png": "[encoded data removed]",
      "text/plain": [
       "<Figure size 432x288 with 1 Axes>"
      ]
     },
     "metadata": {},
     "output_type": "display_data"
    }
   ],
   "source": [
    "viz2.draw_network()"
   ]
  },
  {
   "cell_type": "code",
   "execution_count": null,
   "id": "bdad9731",
   "metadata": {},
   "outputs": [],
   "source": []
  },
  {
   "cell_type": "code",
   "execution_count": null,
   "id": "bb5ebdcb",
   "metadata": {},
   "outputs": [],
   "source": []
  }
 ],
 "metadata": {
  "kernelspec": {
   "display_name": "Python [conda env:evolvo] *",
   "language": "python",
   "name": "conda-env-evolvo-py"
  },
  "language_info": {
   "codemirror_mode": {
    "name": "ipython",
    "version": 3
   },
   "file_extension": ".py",
   "mimetype": "text/x-python",
   "name": "python",
   "nbconvert_exporter": "python",
   "pygments_lexer": "ipython3",
   "version": "3.10.0"
  }
 },
 "nbformat": 4,
 "nbformat_minor": 5
}
